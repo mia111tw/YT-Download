{
  "nbformat": 4,
  "nbformat_minor": 0,
  "metadata": {
    "colab": {
      "name": "Youtube Download",
      "provenance": [],
      "collapsed_sections": []
    },
    "kernelspec": {
      "name": "python3",
      "display_name": "Python 3"
    },
    "language_info": {
      "name": "python"
    }
  },
  "cells": [
    {
      "cell_type": "code",
      "source": [
        "!pip install pytube"
      ],
      "metadata": {
        "id": "FZVdflW_9ZGC",
        "colab": {
          "base_uri": "https://localhost:8080/"
        },
        "outputId": "8ea87515-3b27-45f7-c797-5ea72c637743"
      },
      "execution_count": null,
      "outputs": [
        {
          "output_type": "stream",
          "name": "stdout",
          "text": [
            "Looking in indexes: https://pypi.org/simple, https://us-python.pkg.dev/colab-wheels/public/simple/\n",
            "Collecting pytube\n",
            "  Downloading pytube-12.1.0-py3-none-any.whl (56 kB)\n",
            "\u001b[K     |████████████████████████████████| 56 kB 2.7 MB/s \n",
            "\u001b[?25hInstalling collected packages: pytube\n",
            "Successfully installed pytube-12.1.0\n"
          ]
        }
      ]
    },
    {
      "cell_type": "code",
      "execution_count": null,
      "metadata": {
        "id": "EtJGVh3i9MF8",
        "colab": {
          "base_uri": "https://localhost:8080/"
        },
        "outputId": "cf8a6edf-d5bc-4737-94ab-c8f0d3e4a3c4"
      },
      "outputs": [
        {
          "output_type": "stream",
          "name": "stdout",
          "text": [
            "Drive already mounted at /content/drive; to attempt to forcibly remount, call drive.mount(\"/content/drive\", force_remount=True).\n"
          ]
        }
      ],
      "source": [
        "from google.colab import drive\n",
        "drive.mount('/content/drive')"
      ]
    },
    {
      "cell_type": "code",
      "source": [
        "# Video\n",
        "import os, random\n",
        "from pytube import YouTube\n",
        "\n",
        "while True:\n",
        "  act = input(\"請問是否要下載影片?(Y/N)：\")\n",
        "  if act == \"Y\" or act == \"y\":\n",
        "    folder = input(\"請輸入你想要儲存的資料夾名稱(未輸入即直接儲存於您的雲端硬碟)：\")\n",
        "    if folder != None:\n",
        "      os.chdir('/content/drive/MyDrive/'+folder)\n",
        "    else:\n",
        "      os.chdir('/content/drive/MyDrive')\n",
        "\n",
        "    yt = YouTube(input(\"請輸入你要下載的Youtube網址：\"))\n",
        "\n",
        "    out_file = yt.streams.filter().get_highest_resolution().download()\n",
        "    base, ext = os.path.splitext(out_file)\n",
        "    n = str(random.randint(0,99))\n",
        "    new_file = base + n + '.mp4'\n",
        "    os.rename(out_file, new_file)\n",
        "    print()\n",
        "    print('MP4下載成功！')\n",
        "    break\n",
        "  else:\n",
        "    break"
      ],
      "metadata": {
        "id": "jzkqv9Bk9ami",
        "colab": {
          "base_uri": "https://localhost:8080/",
          "height": 447
        },
        "outputId": "f8bbd72c-75e8-495c-cb18-dcebf01f46e9"
      },
      "execution_count": null,
      "outputs": [
        {
          "name": "stdout",
          "output_type": "stream",
          "text": [
            "請問是否要下載影片?(Y/N)：y\n",
            "請輸入你想要儲存的資料夾名稱(未輸入即直接儲存於您的雲端硬碟)：Colab Notebooks\n",
            "請輸入你要下載的Youtube網址：https://youtu.be/52SVi0JC_8g\n"
          ]
        },
        {
          "output_type": "error",
          "ename": "VideoPrivate",
          "evalue": "ignored",
          "traceback": [
            "\u001b[0;31m---------------------------------------------------------------------------\u001b[0m",
            "\u001b[0;31mVideoPrivate\u001b[0m                              Traceback (most recent call last)",
            "\u001b[0;32m<ipython-input-4-8ed8ed27a0d4>\u001b[0m in \u001b[0;36m<module>\u001b[0;34m()\u001b[0m\n\u001b[1;32m     14\u001b[0m     \u001b[0myt\u001b[0m \u001b[0;34m=\u001b[0m \u001b[0mYouTube\u001b[0m\u001b[0;34m(\u001b[0m\u001b[0minput\u001b[0m\u001b[0;34m(\u001b[0m\u001b[0;34m\"請輸入你要下載的Youtube網址：\"\u001b[0m\u001b[0;34m)\u001b[0m\u001b[0;34m)\u001b[0m\u001b[0;34m\u001b[0m\u001b[0;34m\u001b[0m\u001b[0m\n\u001b[1;32m     15\u001b[0m \u001b[0;34m\u001b[0m\u001b[0m\n\u001b[0;32m---> 16\u001b[0;31m     \u001b[0mout_file\u001b[0m \u001b[0;34m=\u001b[0m \u001b[0myt\u001b[0m\u001b[0;34m.\u001b[0m\u001b[0mstreams\u001b[0m\u001b[0;34m.\u001b[0m\u001b[0mfilter\u001b[0m\u001b[0;34m(\u001b[0m\u001b[0;34m)\u001b[0m\u001b[0;34m.\u001b[0m\u001b[0mget_highest_resolution\u001b[0m\u001b[0;34m(\u001b[0m\u001b[0;34m)\u001b[0m\u001b[0;34m.\u001b[0m\u001b[0mdownload\u001b[0m\u001b[0;34m(\u001b[0m\u001b[0;34m)\u001b[0m\u001b[0;34m\u001b[0m\u001b[0;34m\u001b[0m\u001b[0m\n\u001b[0m\u001b[1;32m     17\u001b[0m     \u001b[0mbase\u001b[0m\u001b[0;34m,\u001b[0m \u001b[0mext\u001b[0m \u001b[0;34m=\u001b[0m \u001b[0mos\u001b[0m\u001b[0;34m.\u001b[0m\u001b[0mpath\u001b[0m\u001b[0;34m.\u001b[0m\u001b[0msplitext\u001b[0m\u001b[0;34m(\u001b[0m\u001b[0mout_file\u001b[0m\u001b[0;34m)\u001b[0m\u001b[0;34m\u001b[0m\u001b[0;34m\u001b[0m\u001b[0m\n\u001b[1;32m     18\u001b[0m     \u001b[0mn\u001b[0m \u001b[0;34m=\u001b[0m \u001b[0mstr\u001b[0m\u001b[0;34m(\u001b[0m\u001b[0mrandom\u001b[0m\u001b[0;34m.\u001b[0m\u001b[0mrandint\u001b[0m\u001b[0;34m(\u001b[0m\u001b[0;36m0\u001b[0m\u001b[0;34m,\u001b[0m\u001b[0;36m99\u001b[0m\u001b[0;34m)\u001b[0m\u001b[0;34m)\u001b[0m\u001b[0;34m\u001b[0m\u001b[0;34m\u001b[0m\u001b[0m\n",
            "\u001b[0;32m/usr/local/lib/python3.7/dist-packages/pytube/__main__.py\u001b[0m in \u001b[0;36mstreams\u001b[0;34m(self)\u001b[0m\n\u001b[1;32m    293\u001b[0m         \u001b[0;34m:\u001b[0m\u001b[0mrtype\u001b[0m\u001b[0;34m:\u001b[0m \u001b[0;34m:\u001b[0m\u001b[0;32mclass\u001b[0m\u001b[0;34m:\u001b[0m\u001b[0;31m`\u001b[0m\u001b[0mStreamQuery\u001b[0m \u001b[0;34m<\u001b[0m\u001b[0mStreamQuery\u001b[0m\u001b[0;34m>\u001b[0m\u001b[0;31m`\u001b[0m\u001b[0;34m.\u001b[0m\u001b[0;34m\u001b[0m\u001b[0;34m\u001b[0m\u001b[0m\n\u001b[1;32m    294\u001b[0m         \"\"\"\n\u001b[0;32m--> 295\u001b[0;31m         \u001b[0mself\u001b[0m\u001b[0;34m.\u001b[0m\u001b[0mcheck_availability\u001b[0m\u001b[0;34m(\u001b[0m\u001b[0;34m)\u001b[0m\u001b[0;34m\u001b[0m\u001b[0;34m\u001b[0m\u001b[0m\n\u001b[0m\u001b[1;32m    296\u001b[0m         \u001b[0;32mreturn\u001b[0m \u001b[0mStreamQuery\u001b[0m\u001b[0;34m(\u001b[0m\u001b[0mself\u001b[0m\u001b[0;34m.\u001b[0m\u001b[0mfmt_streams\u001b[0m\u001b[0;34m)\u001b[0m\u001b[0;34m\u001b[0m\u001b[0;34m\u001b[0m\u001b[0m\n\u001b[1;32m    297\u001b[0m \u001b[0;34m\u001b[0m\u001b[0m\n",
            "\u001b[0;32m/usr/local/lib/python3.7/dist-packages/pytube/__main__.py\u001b[0m in \u001b[0;36mcheck_availability\u001b[0;34m(self)\u001b[0m\n\u001b[1;32m    226\u001b[0m                     \u001b[0;34m'Please sign in to verify that you may see it.'\u001b[0m\u001b[0;34m\u001b[0m\u001b[0;34m\u001b[0m\u001b[0m\n\u001b[1;32m    227\u001b[0m                 ):\n\u001b[0;32m--> 228\u001b[0;31m                     \u001b[0;32mraise\u001b[0m \u001b[0mexceptions\u001b[0m\u001b[0;34m.\u001b[0m\u001b[0mVideoPrivate\u001b[0m\u001b[0;34m(\u001b[0m\u001b[0mvideo_id\u001b[0m\u001b[0;34m=\u001b[0m\u001b[0mself\u001b[0m\u001b[0;34m.\u001b[0m\u001b[0mvideo_id\u001b[0m\u001b[0;34m)\u001b[0m\u001b[0;34m\u001b[0m\u001b[0;34m\u001b[0m\u001b[0m\n\u001b[0m\u001b[1;32m    229\u001b[0m             \u001b[0;32melif\u001b[0m \u001b[0mstatus\u001b[0m \u001b[0;34m==\u001b[0m \u001b[0;34m'ERROR'\u001b[0m\u001b[0;34m:\u001b[0m\u001b[0;34m\u001b[0m\u001b[0;34m\u001b[0m\u001b[0m\n\u001b[1;32m    230\u001b[0m                 \u001b[0;32mif\u001b[0m \u001b[0mreason\u001b[0m \u001b[0;34m==\u001b[0m \u001b[0;34m'Video unavailable'\u001b[0m\u001b[0;34m:\u001b[0m\u001b[0;34m\u001b[0m\u001b[0;34m\u001b[0m\u001b[0m\n",
            "\u001b[0;31mVideoPrivate\u001b[0m: 52SVi0JC_8g is a private video"
          ]
        }
      ]
    },
    {
      "cell_type": "code",
      "source": [
        "# Music\n",
        "import os, random\n",
        "from pytube import YouTube\n",
        "\n",
        "while True:\n",
        "  act = input(\"請問是否要下載影片音訊?(Y/N)：\")\n",
        "  if act == \"Y\" or act == \"y\":\n",
        "    folder = input(\"請輸入你想要儲存的資料夾名稱(未輸入即直接儲存於您的雲端硬碟)：\")\n",
        "    if folder != None:\n",
        "      os.chdir('/content/drive/MyDrive/'+folder)\n",
        "    else:\n",
        "      os.chdir('/content/drive/MyDrive')\n",
        "\n",
        "    yt = YouTube(input(\"請輸入你要下載的Youtube網址：\"))\n",
        "    out_file = yt.streams.filter().get_audio_only().download()\n",
        "    base, ext = os.path.splitext(out_file)\n",
        "    n = str(random.randint(0,99))\n",
        "    new_file = base + n + '.mp3'\n",
        "    os.rename(out_file, new_file)\n",
        "    print()\n",
        "    print('MP3下載成功！')\n",
        "    break\n",
        "  else:\n",
        "    break"
      ],
      "metadata": {
        "id": "ml30w9Uq9cji",
        "colab": {
          "base_uri": "https://localhost:8080/"
        },
        "outputId": "9ae72661-fd9d-46a4-84ea-0942296aa9cf"
      },
      "execution_count": null,
      "outputs": [
        {
          "output_type": "stream",
          "name": "stdout",
          "text": [
            "請問是否要下載影片音訊?(Y/N)：y\n",
            "請輸入你想要儲存的資料夾名稱(未輸入即直接儲存於您的雲端硬碟)：Colab Notebooks\n",
            "請輸入你要下載的Youtube網址：https://www.youtube.com/watch?v=9lVemcZUEnI&list=PLM7lbdP4Yjray6EfRsJcRDpXNp4PKanuB&index=4\n",
            "\n",
            "MP3下載成功！\n"
          ]
        }
      ]
    }
  ]
}